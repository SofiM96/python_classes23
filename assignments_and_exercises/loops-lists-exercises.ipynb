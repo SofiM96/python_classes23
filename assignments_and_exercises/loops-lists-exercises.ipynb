{
 "cells": [
  {
   "cell_type": "markdown",
   "source": [
    "# Excercise 1\n",
    "\n",
    "Write a program that finds all positive integer numbers $a, b \\leq 25$ such that $a^2 + b^2$ is a square of a positive integer number."
   ],
   "metadata": {
    "collapsed": false
   }
  },
  {
   "cell_type": "code",
   "execution_count": 14,
   "outputs": [
    {
     "name": "stdout",
     "output_type": "stream",
     "text": [
      "3 4 5.0\n",
      "5 12 13.0\n",
      "6 8 10.0\n",
      "7 24 25.0\n",
      "8 15 17.0\n",
      "9 12 15.0\n",
      "10 24 26.0\n",
      "12 16 20.0\n",
      "15 20 25.0\n",
      "18 24 30.0\n",
      "20 21 29.0\n"
     ]
    }
   ],
   "source": [
    "def squares():\n",
    "    import numpy as np\n",
    "    for a in range(1,26):\n",
    "        for b in range(a,26):\n",
    "            c = np.sqrt(a**2 + b**2)\n",
    "            if  c == int(c):\n",
    "                print(a,b,c)\n",
    "squares()\n"
   ],
   "metadata": {
    "collapsed": false
   }
  },
  {
   "cell_type": "markdown",
   "source": [
    "# Excercise 2\n",
    "\n",
    "Write a program that implements a shopping list for a supermarket and a cart list. Initially, the cart is empty. As items from the shopping list are bought one after the other, they are removed from the shopping list and added to the cart. In each step print both lists, until the shopping list is exhausted."
   ],
   "metadata": {
    "collapsed": false
   }
  },
  {
   "cell_type": "code",
   "execution_count": 17,
   "outputs": [
    {
     "name": "stdout",
     "output_type": "stream",
     "text": [
      "['Chocolate', 'Apples', 'Milk', 'Oranges', 'Bread', 'Eggs', 'Coffee']\n"
     ]
    }
   ],
   "source": [
    "my_shopping_list = ['Milk', 'Bread', 'Eggs', 'Apples', 'Oranges', 'Chocolate', 'Coffee']\n",
    "\n",
    "def shopping_sim(shopping_list):\n",
    "    import random\n",
    "    cart = []\n",
    "    while shopping_list:\n",
    "        item_of_choice = random.choice(shopping_list)\n",
    "        cart.append(item_of_choice)\n",
    "        shopping_list.remove(item_of_choice)\n",
    "    return cart\n",
    "my_cart = shopping_sim(my_shopping_list)\n",
    "print(my_cart)"
   ],
   "metadata": {
    "collapsed": false
   }
  },
  {
   "cell_type": "markdown",
   "metadata": {
    "tags": []
   },
   "source": [
    "# Excercise 3\n",
    "\n",
    "Having a list of numbers, write a program that prints only list elements which are $\\leq 5$.\n",
    "\n",
    "Extra 1: Instead of printing, create a new list that contain only list elements which are $\\leq 5$.\n",
    "\n",
    "Extra 2: Do it in one line."
   ]
  },
  {
   "cell_type": "code",
   "execution_count": 32,
   "outputs": [
    {
     "name": "stdout",
     "output_type": "stream",
     "text": [
      "[2, 4, 3, 1, 5]\n"
     ]
    }
   ],
   "source": [
    "import random\n",
    "leq_5 = [k for k in random.sample(range(1, 101), 100) if k <= 5]\n",
    "print(leq_5)"
   ],
   "metadata": {
    "collapsed": false
   }
  },
  {
   "cell_type": "markdown",
   "metadata": {
    "tags": []
   },
   "source": [
    "# Excercise 4\n",
    "\n",
    "Having two lists of different sizes, write a program that prints only elements that belong to both lists.\n",
    "\n",
    "Extra 1: Eliminate repetitions of elements in the resulting intersection list.\n",
    "\n",
    "Extra 2: Do it all in one line."
   ]
  },
  {
   "cell_type": "code",
   "execution_count": 7,
   "metadata": {},
   "outputs": [
    {
     "name": "stdout",
     "output_type": "stream",
     "text": [
      "[2, 3, 4, 5, 8, 9, 11]\n"
     ]
    }
   ],
   "source": [
    "l1 = [2, 3, 5, 8]\n",
    "l2 = [4, 5, 9, 11]\n",
    "\n",
    "l3 = list(set(l1) | (set(l2)))\n",
    "print(l3)"
   ]
  }
 ],
 "metadata": {
  "kernelspec": {
   "display_name": "Python 3 (ipykernel)",
   "language": "python",
   "name": "python3"
  },
  "language_info": {
   "codemirror_mode": {
    "name": "ipython",
    "version": 3
   },
   "file_extension": ".py",
   "mimetype": "text/x-python",
   "name": "python",
   "nbconvert_exporter": "python",
   "pygments_lexer": "ipython3",
   "version": "3.11.2"
  }
 },
 "nbformat": 4,
 "nbformat_minor": 4
}
